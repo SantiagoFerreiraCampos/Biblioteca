{
 "cells": [
  {
   "cell_type": "code",
   "execution_count": 2,
   "id": "b34ed769",
   "metadata": {},
   "outputs": [],
   "source": [
    "import pandas as pd\n",
    "import os\n"
   ]
  },
  {
   "cell_type": "code",
   "execution_count": 5,
   "id": "8b58b7ef",
   "metadata": {},
   "outputs": [
    {
     "name": "stdout",
     "output_type": "stream",
     "text": [
      "                  Titulo           Autor  Editorial  Unnamed: 3  Unnamed: 4  \\\n",
      "0    Cuentos completos/2  Julio Cortázar  Alfaguara         NaN         NaN   \n",
      "1                Rayuela  Julio Cortázar  Alfaguara         NaN         NaN   \n",
      "2    Niebla al medio día  Tomás Gonzáles  Alfaguara         NaN         NaN   \n",
      "3         La luz difícil  Tomás Gonzáles  Alfaguara         NaN         NaN   \n",
      "4  Ya sóla habla de amor      Ray Loriga  Alfaguara         NaN         NaN   \n",
      "\n",
      "   Unnamed: 5  Unnamed: 6 Unnamed: 7  \n",
      "0         NaN         NaN        NaN  \n",
      "1         NaN         NaN        NaN  \n",
      "2         NaN         NaN        NaN  \n",
      "3         NaN         NaN        NaN  \n",
      "4         NaN         NaN        NaN  \n"
     ]
    }
   ],
   "source": [
    "\n",
    "# Load the Excel file\n",
    "df = pd.read_excel(\"Biblioteca.xlsx\")\n",
    "\n",
    "# Display the first few rows of the DataFrame\n",
    "print(df.head())"
   ]
  },
  {
   "cell_type": "code",
   "execution_count": 6,
   "id": "c1f12c61",
   "metadata": {},
   "outputs": [],
   "source": [
    "df = df.loc[:, ~df.columns.str.contains('^Unnamed')]"
   ]
  },
  {
   "cell_type": "code",
   "execution_count": 10,
   "id": "f49dad03",
   "metadata": {},
   "outputs": [],
   "source": [
    "df.to_excel(\"Biblioteca_cleaned.xlsx\", index=False)"
   ]
  },
  {
   "cell_type": "code",
   "execution_count": null,
   "id": "079732a6",
   "metadata": {},
   "outputs": [],
   "source": [
    "df = pd.read_excel(\"Biblioteca_cleaned.xlsx\")\n",
    "# Title\n",
    "st.title(\"My Personal Library\")\n",
    "\n",
    "# Search bar\n",
    "search = st.text_input(\"Search for a book, author, or publisher\")\n",
    "\n",
    "# Filter results\n",
    "if search:\n",
    "    filtered_df = df[\n",
    "        df[\"Titulo\"].str.contains(search, case=False, na=False) |\n",
    "        df[\"Autor\"].str.contains(search, case=False, na=False) |\n",
    "        df[\"Editorial\"].str.contains(search, case=False, na=False)\n",
    "    ]\n",
    "    st.write(filtered_df)\n",
    "else:\n",
    "    st.write(df)"
   ]
  },
  {
   "cell_type": "code",
   "execution_count": 3,
   "id": "e5d24cd4",
   "metadata": {},
   "outputs": [
    {
     "name": "stdout",
     "output_type": "stream",
     "text": [
      "Current working directory: d:\\Bliblioteca\\Biblioteca\n"
     ]
    }
   ],
   "source": [
    "print(\"Current working directory:\", os.getcwd())"
   ]
  },
  {
   "cell_type": "code",
   "execution_count": 4,
   "id": "acdc0daa",
   "metadata": {},
   "outputs": [
    {
     "ename": "ModuleNotFoundError",
     "evalue": "No module named 'utils'",
     "output_type": "error",
     "traceback": [
      "\u001b[1;31m---------------------------------------------------------------------------\u001b[0m",
      "\u001b[1;31mModuleNotFoundError\u001b[0m                       Traceback (most recent call last)",
      "Cell \u001b[1;32mIn[4], line 1\u001b[0m\n\u001b[1;32m----> 1\u001b[0m \u001b[38;5;28;01mimport\u001b[39;00m \u001b[38;5;21;01mcomplete\u001b[39;00m\u001b[38;5;21;01m.\u001b[39;00m\u001b[38;5;21;01msanti\u001b[39;00m\n\u001b[0;32m      2\u001b[0m \u001b[38;5;28mprint\u001b[39m(complete\u001b[38;5;241m.\u001b[39msanti)\n",
      "File \u001b[1;32md:\\Bliblioteca\\Biblioteca\\complete\\santi.py:2\u001b[0m\n\u001b[0;32m      1\u001b[0m \u001b[38;5;28;01mimport\u001b[39;00m \u001b[38;5;21;01mstreamlit\u001b[39;00m \u001b[38;5;28;01mas\u001b[39;00m \u001b[38;5;21;01mst\u001b[39;00m\n\u001b[1;32m----> 2\u001b[0m \u001b[38;5;28;01mfrom\u001b[39;00m \u001b[38;5;21;01mutils\u001b[39;00m\u001b[38;5;21;01m.\u001b[39;00m\u001b[38;5;21;01mcommon\u001b[39;00m \u001b[38;5;28;01mimport\u001b[39;00m load_books, save_books, search_books\n\u001b[0;32m      4\u001b[0m \u001b[38;5;66;03m# Define file path for Santiago's books\u001b[39;00m\n\u001b[0;32m      5\u001b[0m FILENAME \u001b[38;5;241m=\u001b[39m \u001b[38;5;124m\"\u001b[39m\u001b[38;5;124mdata/santi_books.xlsx\u001b[39m\u001b[38;5;124m\"\u001b[39m\n",
      "\u001b[1;31mModuleNotFoundError\u001b[0m: No module named 'utils'"
     ]
    }
   ],
   "source": [
    "import complete.santi\n",
    "print(complete.santi)"
   ]
  }
 ],
 "metadata": {
  "kernelspec": {
   "display_name": "base",
   "language": "python",
   "name": "python3"
  },
  "language_info": {
   "codemirror_mode": {
    "name": "ipython",
    "version": 3
   },
   "file_extension": ".py",
   "mimetype": "text/x-python",
   "name": "python",
   "nbconvert_exporter": "python",
   "pygments_lexer": "ipython3",
   "version": "3.11.3"
  }
 },
 "nbformat": 4,
 "nbformat_minor": 5
}
