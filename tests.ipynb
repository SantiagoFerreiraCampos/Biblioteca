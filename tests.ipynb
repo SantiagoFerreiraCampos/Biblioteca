{
 "cells": [
  {
   "cell_type": "code",
   "execution_count": 1,
   "id": "b34ed769",
   "metadata": {},
   "outputs": [],
   "source": [
    "import pandas as pd\n"
   ]
  },
  {
   "cell_type": "code",
   "execution_count": 5,
   "id": "8b58b7ef",
   "metadata": {},
   "outputs": [
    {
     "name": "stdout",
     "output_type": "stream",
     "text": [
      "                  Titulo           Autor  Editorial  Unnamed: 3  Unnamed: 4  \\\n",
      "0    Cuentos completos/2  Julio Cortázar  Alfaguara         NaN         NaN   \n",
      "1                Rayuela  Julio Cortázar  Alfaguara         NaN         NaN   \n",
      "2    Niebla al medio día  Tomás Gonzáles  Alfaguara         NaN         NaN   \n",
      "3         La luz difícil  Tomás Gonzáles  Alfaguara         NaN         NaN   \n",
      "4  Ya sóla habla de amor      Ray Loriga  Alfaguara         NaN         NaN   \n",
      "\n",
      "   Unnamed: 5  Unnamed: 6 Unnamed: 7  \n",
      "0         NaN         NaN        NaN  \n",
      "1         NaN         NaN        NaN  \n",
      "2         NaN         NaN        NaN  \n",
      "3         NaN         NaN        NaN  \n",
      "4         NaN         NaN        NaN  \n"
     ]
    }
   ],
   "source": [
    "\n",
    "# Load the Excel file\n",
    "df = pd.read_excel(\"Biblioteca.xlsx\")\n",
    "\n",
    "# Display the first few rows of the DataFrame\n",
    "print(df.head())"
   ]
  },
  {
   "cell_type": "code",
   "execution_count": 6,
   "id": "c1f12c61",
   "metadata": {},
   "outputs": [],
   "source": [
    "df = df.loc[:, ~df.columns.str.contains('^Unnamed')]"
   ]
  },
  {
   "cell_type": "code",
   "execution_count": 10,
   "id": "f49dad03",
   "metadata": {},
   "outputs": [],
   "source": [
    "df.to_excel(\"Biblioteca_cleaned.xlsx\", index=False)"
   ]
  },
  {
   "cell_type": "code",
   "execution_count": null,
   "id": "079732a6",
   "metadata": {},
   "outputs": [],
   "source": [
    "df = pd.read_excel(\"Biblioteca_cleaned.xlsx\")\n",
    "# Title\n",
    "st.title(\"My Personal Library\")\n",
    "\n",
    "# Search bar\n",
    "search = st.text_input(\"Search for a book, author, or publisher\")\n",
    "\n",
    "# Filter results\n",
    "if search:\n",
    "    filtered_df = df[\n",
    "        df[\"Titulo\"].str.contains(search, case=False, na=False) |\n",
    "        df[\"Autor\"].str.contains(search, case=False, na=False) |\n",
    "        df[\"Editorial\"].str.contains(search, case=False, na=False)\n",
    "    ]\n",
    "    st.write(filtered_df)\n",
    "else:\n",
    "    st.write(df)"
   ]
  }
 ],
 "metadata": {
  "kernelspec": {
   "display_name": "base",
   "language": "python",
   "name": "python3"
  },
  "language_info": {
   "codemirror_mode": {
    "name": "ipython",
    "version": 3
   },
   "file_extension": ".py",
   "mimetype": "text/x-python",
   "name": "python",
   "nbconvert_exporter": "python",
   "pygments_lexer": "ipython3",
   "version": "3.11.3"
  }
 },
 "nbformat": 4,
 "nbformat_minor": 5
}
